{
 "cells": [
  {
   "cell_type": "markdown",
   "metadata": {},
   "source": [
    "# **TESLA LSTM STOCK PRICE PREDICTION**"
   ]
  },
  {
   "cell_type": "markdown",
   "metadata": {},
   "source": [
    "**Importing Required Packages:**"
   ]
  },
  {
   "cell_type": "code",
   "execution_count": 4,
   "metadata": {
    "id": "yeETzRv0i8fa"
   },
   "outputs": [],
   "source": [
    "import pandas_datareader as pdr\n",
    "from datetime import datetime\n",
    "import pandas as pd\n",
    "import numpy as np\n",
    "import matplotlib.pyplot as plt\n",
    "from sklearn.preprocessing import MinMaxScaler\n",
    "import numpy\n",
    "from tensorflow.keras.models import Sequential\n",
    "from tensorflow.keras.layers import Dense\n",
    "from tensorflow.keras.layers import LSTM,Flatten\n",
    "import tensorflow as tf"
   ]
  },
  {
   "cell_type": "markdown",
   "metadata": {},
   "source": [
    "**Data Collection Tesla Data**"
   ]
  },
  {
   "cell_type": "code",
   "execution_count": 5,
   "metadata": {
    "id": "79ousy5riivk"
   },
   "outputs": [],
   "source": [
    "df1=pd.read_csv(\"Tesla_stocks.csv\")"
   ]
  },
  {
   "cell_type": "code",
   "execution_count": 6,
   "metadata": {
    "colab": {
     "base_uri": "https://localhost:8080/",
     "height": 357
    },
    "id": "21hTZJY7i37_",
    "outputId": "3e83aac7-2d95-4afe-8de6-22e7196c3532"
   },
   "outputs": [
    {
     "data": {
      "text/html": [
       "<div>\n",
       "<style scoped>\n",
       "    .dataframe tbody tr th:only-of-type {\n",
       "        vertical-align: middle;\n",
       "    }\n",
       "\n",
       "    .dataframe tbody tr th {\n",
       "        vertical-align: top;\n",
       "    }\n",
       "\n",
       "    .dataframe thead th {\n",
       "        text-align: right;\n",
       "    }\n",
       "</style>\n",
       "<table border=\"1\" class=\"dataframe\">\n",
       "  <thead>\n",
       "    <tr style=\"text-align: right;\">\n",
       "      <th></th>\n",
       "      <th>symbol</th>\n",
       "      <th>date</th>\n",
       "      <th>close</th>\n",
       "      <th>high</th>\n",
       "      <th>low</th>\n",
       "      <th>open</th>\n",
       "      <th>volume</th>\n",
       "      <th>adjClose</th>\n",
       "      <th>adjHigh</th>\n",
       "      <th>adjLow</th>\n",
       "      <th>adjOpen</th>\n",
       "      <th>adjVolume</th>\n",
       "      <th>divCash</th>\n",
       "      <th>splitFactor</th>\n",
       "    </tr>\n",
       "  </thead>\n",
       "  <tbody>\n",
       "    <tr>\n",
       "      <th>0</th>\n",
       "      <td>TSLA</td>\n",
       "      <td>2018-01-02 00:00:00+00:00</td>\n",
       "      <td>320.53</td>\n",
       "      <td>322.11</td>\n",
       "      <td>311.00</td>\n",
       "      <td>312.00</td>\n",
       "      <td>4326988</td>\n",
       "      <td>21.368667</td>\n",
       "      <td>21.474000</td>\n",
       "      <td>20.733333</td>\n",
       "      <td>20.800000</td>\n",
       "      <td>64904820</td>\n",
       "      <td>0.0</td>\n",
       "      <td>1.0</td>\n",
       "    </tr>\n",
       "    <tr>\n",
       "      <th>1</th>\n",
       "      <td>TSLA</td>\n",
       "      <td>2018-01-03 00:00:00+00:00</td>\n",
       "      <td>317.25</td>\n",
       "      <td>325.25</td>\n",
       "      <td>315.55</td>\n",
       "      <td>321.00</td>\n",
       "      <td>4185665</td>\n",
       "      <td>21.150000</td>\n",
       "      <td>21.683333</td>\n",
       "      <td>21.036667</td>\n",
       "      <td>21.400000</td>\n",
       "      <td>62784975</td>\n",
       "      <td>0.0</td>\n",
       "      <td>1.0</td>\n",
       "    </tr>\n",
       "    <tr>\n",
       "      <th>2</th>\n",
       "      <td>TSLA</td>\n",
       "      <td>2018-01-04 00:00:00+00:00</td>\n",
       "      <td>314.62</td>\n",
       "      <td>318.55</td>\n",
       "      <td>305.68</td>\n",
       "      <td>312.87</td>\n",
       "      <td>9915932</td>\n",
       "      <td>20.974667</td>\n",
       "      <td>21.236667</td>\n",
       "      <td>20.378667</td>\n",
       "      <td>20.858000</td>\n",
       "      <td>148738980</td>\n",
       "      <td>0.0</td>\n",
       "      <td>1.0</td>\n",
       "    </tr>\n",
       "    <tr>\n",
       "      <th>3</th>\n",
       "      <td>TSLA</td>\n",
       "      <td>2018-01-05 00:00:00+00:00</td>\n",
       "      <td>316.58</td>\n",
       "      <td>317.24</td>\n",
       "      <td>312.00</td>\n",
       "      <td>316.62</td>\n",
       "      <td>4578729</td>\n",
       "      <td>21.105333</td>\n",
       "      <td>21.149333</td>\n",
       "      <td>20.800000</td>\n",
       "      <td>21.108000</td>\n",
       "      <td>68680935</td>\n",
       "      <td>0.0</td>\n",
       "      <td>1.0</td>\n",
       "    </tr>\n",
       "    <tr>\n",
       "      <th>4</th>\n",
       "      <td>TSLA</td>\n",
       "      <td>2018-01-08 00:00:00+00:00</td>\n",
       "      <td>336.41</td>\n",
       "      <td>337.02</td>\n",
       "      <td>315.50</td>\n",
       "      <td>316.00</td>\n",
       "      <td>9777059</td>\n",
       "      <td>22.427333</td>\n",
       "      <td>22.468000</td>\n",
       "      <td>21.033333</td>\n",
       "      <td>21.066667</td>\n",
       "      <td>146655885</td>\n",
       "      <td>0.0</td>\n",
       "      <td>1.0</td>\n",
       "    </tr>\n",
       "  </tbody>\n",
       "</table>\n",
       "</div>"
      ],
      "text/plain": [
       "  symbol                       date   close    high     low    open   volume  \\\n",
       "0   TSLA  2018-01-02 00:00:00+00:00  320.53  322.11  311.00  312.00  4326988   \n",
       "1   TSLA  2018-01-03 00:00:00+00:00  317.25  325.25  315.55  321.00  4185665   \n",
       "2   TSLA  2018-01-04 00:00:00+00:00  314.62  318.55  305.68  312.87  9915932   \n",
       "3   TSLA  2018-01-05 00:00:00+00:00  316.58  317.24  312.00  316.62  4578729   \n",
       "4   TSLA  2018-01-08 00:00:00+00:00  336.41  337.02  315.50  316.00  9777059   \n",
       "\n",
       "    adjClose    adjHigh     adjLow    adjOpen  adjVolume  divCash  splitFactor  \n",
       "0  21.368667  21.474000  20.733333  20.800000   64904820      0.0          1.0  \n",
       "1  21.150000  21.683333  21.036667  21.400000   62784975      0.0          1.0  \n",
       "2  20.974667  21.236667  20.378667  20.858000  148738980      0.0          1.0  \n",
       "3  21.105333  21.149333  20.800000  21.108000   68680935      0.0          1.0  \n",
       "4  22.427333  22.468000  21.033333  21.066667  146655885      0.0          1.0  "
      ]
     },
     "execution_count": 6,
     "metadata": {},
     "output_type": "execute_result"
    }
   ],
   "source": [
    "df1.head()"
   ]
  },
  {
   "cell_type": "code",
   "execution_count": 7,
   "metadata": {
    "colab": {
     "base_uri": "https://localhost:8080/",
     "height": 357
    },
    "id": "0YWrS6TccOx4",
    "outputId": "7562b2aa-24c3-41bc-9f2c-9784ca93fa94"
   },
   "outputs": [
    {
     "data": {
      "text/html": [
       "<div>\n",
       "<style scoped>\n",
       "    .dataframe tbody tr th:only-of-type {\n",
       "        vertical-align: middle;\n",
       "    }\n",
       "\n",
       "    .dataframe tbody tr th {\n",
       "        vertical-align: top;\n",
       "    }\n",
       "\n",
       "    .dataframe thead th {\n",
       "        text-align: right;\n",
       "    }\n",
       "</style>\n",
       "<table border=\"1\" class=\"dataframe\">\n",
       "  <thead>\n",
       "    <tr style=\"text-align: right;\">\n",
       "      <th></th>\n",
       "      <th>symbol</th>\n",
       "      <th>date</th>\n",
       "      <th>close</th>\n",
       "      <th>high</th>\n",
       "      <th>low</th>\n",
       "      <th>open</th>\n",
       "      <th>volume</th>\n",
       "      <th>adjClose</th>\n",
       "      <th>adjHigh</th>\n",
       "      <th>adjLow</th>\n",
       "      <th>adjOpen</th>\n",
       "      <th>adjVolume</th>\n",
       "      <th>divCash</th>\n",
       "      <th>splitFactor</th>\n",
       "    </tr>\n",
       "  </thead>\n",
       "  <tbody>\n",
       "    <tr>\n",
       "      <th>1402</th>\n",
       "      <td>TSLA</td>\n",
       "      <td>2023-07-31 00:00:00+00:00</td>\n",
       "      <td>267.43</td>\n",
       "      <td>269.08</td>\n",
       "      <td>263.78</td>\n",
       "      <td>267.48</td>\n",
       "      <td>84582172</td>\n",
       "      <td>267.43</td>\n",
       "      <td>269.08</td>\n",
       "      <td>263.78</td>\n",
       "      <td>267.48</td>\n",
       "      <td>84582172</td>\n",
       "      <td>0.0</td>\n",
       "      <td>1.0</td>\n",
       "    </tr>\n",
       "    <tr>\n",
       "      <th>1403</th>\n",
       "      <td>TSLA</td>\n",
       "      <td>2023-08-01 00:00:00+00:00</td>\n",
       "      <td>261.07</td>\n",
       "      <td>266.47</td>\n",
       "      <td>260.25</td>\n",
       "      <td>266.26</td>\n",
       "      <td>83645720</td>\n",
       "      <td>261.07</td>\n",
       "      <td>266.47</td>\n",
       "      <td>260.25</td>\n",
       "      <td>266.26</td>\n",
       "      <td>83645720</td>\n",
       "      <td>0.0</td>\n",
       "      <td>1.0</td>\n",
       "    </tr>\n",
       "    <tr>\n",
       "      <th>1404</th>\n",
       "      <td>TSLA</td>\n",
       "      <td>2023-08-02 00:00:00+00:00</td>\n",
       "      <td>254.11</td>\n",
       "      <td>259.52</td>\n",
       "      <td>250.49</td>\n",
       "      <td>255.57</td>\n",
       "      <td>101752865</td>\n",
       "      <td>254.11</td>\n",
       "      <td>259.52</td>\n",
       "      <td>250.49</td>\n",
       "      <td>255.57</td>\n",
       "      <td>101752865</td>\n",
       "      <td>0.0</td>\n",
       "      <td>1.0</td>\n",
       "    </tr>\n",
       "    <tr>\n",
       "      <th>1405</th>\n",
       "      <td>TSLA</td>\n",
       "      <td>2023-08-03 00:00:00+00:00</td>\n",
       "      <td>259.32</td>\n",
       "      <td>260.49</td>\n",
       "      <td>252.00</td>\n",
       "      <td>252.04</td>\n",
       "      <td>97829545</td>\n",
       "      <td>259.32</td>\n",
       "      <td>260.49</td>\n",
       "      <td>252.00</td>\n",
       "      <td>252.04</td>\n",
       "      <td>97829545</td>\n",
       "      <td>0.0</td>\n",
       "      <td>1.0</td>\n",
       "    </tr>\n",
       "    <tr>\n",
       "      <th>1406</th>\n",
       "      <td>TSLA</td>\n",
       "      <td>2023-08-04 00:00:00+00:00</td>\n",
       "      <td>253.86</td>\n",
       "      <td>264.77</td>\n",
       "      <td>253.11</td>\n",
       "      <td>260.97</td>\n",
       "      <td>99539907</td>\n",
       "      <td>253.86</td>\n",
       "      <td>264.77</td>\n",
       "      <td>253.11</td>\n",
       "      <td>260.97</td>\n",
       "      <td>99539907</td>\n",
       "      <td>0.0</td>\n",
       "      <td>1.0</td>\n",
       "    </tr>\n",
       "  </tbody>\n",
       "</table>\n",
       "</div>"
      ],
      "text/plain": [
       "     symbol                       date   close    high     low    open  \\\n",
       "1402   TSLA  2023-07-31 00:00:00+00:00  267.43  269.08  263.78  267.48   \n",
       "1403   TSLA  2023-08-01 00:00:00+00:00  261.07  266.47  260.25  266.26   \n",
       "1404   TSLA  2023-08-02 00:00:00+00:00  254.11  259.52  250.49  255.57   \n",
       "1405   TSLA  2023-08-03 00:00:00+00:00  259.32  260.49  252.00  252.04   \n",
       "1406   TSLA  2023-08-04 00:00:00+00:00  253.86  264.77  253.11  260.97   \n",
       "\n",
       "         volume  adjClose  adjHigh  adjLow  adjOpen  adjVolume  divCash  \\\n",
       "1402   84582172    267.43   269.08  263.78   267.48   84582172      0.0   \n",
       "1403   83645720    261.07   266.47  260.25   266.26   83645720      0.0   \n",
       "1404  101752865    254.11   259.52  250.49   255.57  101752865      0.0   \n",
       "1405   97829545    259.32   260.49  252.00   252.04   97829545      0.0   \n",
       "1406   99539907    253.86   264.77  253.11   260.97   99539907      0.0   \n",
       "\n",
       "      splitFactor  \n",
       "1402          1.0  \n",
       "1403          1.0  \n",
       "1404          1.0  \n",
       "1405          1.0  \n",
       "1406          1.0  "
      ]
     },
     "execution_count": 7,
     "metadata": {},
     "output_type": "execute_result"
    }
   ],
   "source": [
    "df1.tail()"
   ]
  },
  {
   "cell_type": "markdown",
   "metadata": {},
   "source": [
    "**Selecting Open value**"
   ]
  },
  {
   "cell_type": "code",
   "execution_count": 8,
   "metadata": {
    "id": "aIYXxcbRjrO0"
   },
   "outputs": [],
   "source": [
    "df=df1['open']"
   ]
  },
  {
   "cell_type": "code",
   "execution_count": 9,
   "metadata": {
    "colab": {
     "base_uri": "https://localhost:8080/"
    },
    "id": "g3vs-iE2jz9w",
    "outputId": "a5c2798e-f99d-4283-e014-f95f4d353546"
   },
   "outputs": [
    {
     "data": {
      "text/plain": [
       "(1407,)"
      ]
     },
     "execution_count": 9,
     "metadata": {},
     "output_type": "execute_result"
    }
   ],
   "source": [
    "df.shape"
   ]
  },
  {
   "cell_type": "code",
   "execution_count": 10,
   "metadata": {
    "colab": {
     "base_uri": "https://localhost:8080/"
    },
    "id": "xASufro-j_V_",
    "outputId": "8ab4cdc7-2931-42d9-fab4-cb9646cad713"
   },
   "outputs": [
    {
     "data": {
      "text/plain": [
       "0    312.00\n",
       "1    321.00\n",
       "2    312.87\n",
       "3    316.62\n",
       "4    316.00\n",
       "Name: open, dtype: float64"
      ]
     },
     "execution_count": 10,
     "metadata": {},
     "output_type": "execute_result"
    }
   ],
   "source": [
    "df.head()"
   ]
  },
  {
   "cell_type": "markdown",
   "metadata": {},
   "source": [
    "**Data Visualization**"
   ]
  },
  {
   "cell_type": "code",
   "execution_count": 11,
   "metadata": {
    "colab": {
     "base_uri": "https://localhost:8080/",
     "height": 447
    },
    "id": "CKJudUZtkfcn",
    "outputId": "34dd2048-cc64-4d9f-9f0d-4e38dfbd2973"
   },
   "outputs": [
    {
     "data": {
      "text/plain": [
       "[<matplotlib.lines.Line2D at 0x297ccacb0d0>]"
      ]
     },
     "execution_count": 11,
     "metadata": {},
     "output_type": "execute_result"
    },
    {
     "data": {
      "image/png": "[encoded data removed]",
      "text/plain": [
       "<Figure size 640x480 with 1 Axes>"
      ]
     },
     "metadata": {},
     "output_type": "display_data"
    }
   ],
   "source": [
    "plt.plot(df)"
   ]
  },
  {
   "cell_type": "code",
   "execution_count": 12,
   "metadata": {
    "id": "ScEhOePmk0Yk"
   },
   "outputs": [],
   "source": [
    "scaler=MinMaxScaler(feature_range=(0,1))\n",
    "df=scaler.fit_transform(np.array(df).reshape(-1,1))"
   ]
  },
  {
   "cell_type": "code",
   "execution_count": 13,
   "metadata": {},
   "outputs": [
    {
     "data": {
      "text/plain": [
       "array([[0.0953415 ],\n",
       "       [0.09944711],\n",
       "       [0.09573837],\n",
       "       ...,\n",
       "       [0.06959929],\n",
       "       [0.06798898],\n",
       "       [0.07206266]])"
      ]
     },
     "execution_count": 13,
     "metadata": {},
     "output_type": "execute_result"
    }
   ],
   "source": [
    "df"
   ]
  },
  {
   "cell_type": "code",
   "execution_count": 14,
   "metadata": {},
   "outputs": [
    {
     "data": {
      "text/plain": [
       "[<matplotlib.lines.Line2D at 0x297ccb8c850>]"
      ]
     },
     "execution_count": 14,
     "metadata": {},
     "output_type": "execute_result"
    },
    {
     "data": {
      "image/png": "[encoded data removed]",
      "text/plain": [
       "<Figure size 640x480 with 1 Axes>"
      ]
     },
     "metadata": {},
     "output_type": "display_data"
    }
   ],
   "source": [
    "plt.plot(df)"
   ]
  },
  {
   "cell_type": "code",
   "execution_count": 15,
   "metadata": {
    "id": "LRZ-dYFflsRx"
   },
   "outputs": [],
   "source": [
    "training_size=int(len(df)*0.65)\n",
    "test_size=len(df)-training_size\n",
    "train_data,test_data=df[0:training_size,:],df[training_size:len(df),:1]"
   ]
  },
  {
   "cell_type": "code",
   "execution_count": 52,
   "metadata": {
    "colab": {
     "base_uri": "https://localhost:8080/"
    },
    "id": "Z84OMU7smWBR",
    "outputId": "94672635-61e2-4465-ac4c-5c459ed7c3ec"
   },
   "outputs": [
    {
     "data": {
      "text/plain": [
       "(914, 493)"
      ]
     },
     "execution_count": 52,
     "metadata": {},
     "output_type": "execute_result"
    }
   ],
   "source": [
    "training_size,test_size"
   ]
  },
  {
   "cell_type": "markdown",
   "metadata": {},
   "source": [
    "**Data Preprocessing for Time Serise Data**"
   ]
  },
  {
   "cell_type": "code",
   "execution_count": 16,
   "metadata": {
    "id": "YUjcfoGJn58a"
   },
   "outputs": [],
   "source": [
    "def Preprocess_data(dataset,time_step):\n",
    "  X,Y=[],[]\n",
    "  for i in range(len(dataset)-time_step-1):\n",
    "    a=dataset[i:(i+time_step),0]\n",
    "    X.append(a)\n",
    "    b=dataset[i+time_step,0]\n",
    "    Y.append(b)\n",
    "\n",
    "  return numpy.array(X),numpy.array(Y)"
   ]
  },
  {
   "cell_type": "code",
   "execution_count": 17,
   "metadata": {
    "id": "8QzZWuZysElm"
   },
   "outputs": [],
   "source": [
    "x_train,y_train = Preprocess_data(train_data,365)\n",
    "x_test,y_test = Preprocess_data(test_data,365)"
   ]
  },
  {
   "cell_type": "code",
   "execution_count": 18,
   "metadata": {
    "colab": {
     "base_uri": "https://localhost:8080/"
    },
    "id": "mHq7VrlmiN1Z",
    "outputId": "ba6179d9-9e9e-4992-9452-22945c532d4d"
   },
   "outputs": [
    {
     "data": {
      "text/plain": [
       "(548, 365)"
      ]
     },
     "execution_count": 18,
     "metadata": {},
     "output_type": "execute_result"
    }
   ],
   "source": [
    "x_train.shape"
   ]
  },
  {
   "cell_type": "code",
   "execution_count": 19,
   "metadata": {
    "colab": {
     "base_uri": "https://localhost:8080/"
    },
    "id": "cY3WlW1IzjSU",
    "outputId": "c2c911bb-f20b-4038-e996-38148f89caa0"
   },
   "outputs": [
    {
     "data": {
      "text/plain": [
       "(127, 365, 1)"
      ]
     },
     "execution_count": 19,
     "metadata": {},
     "output_type": "execute_result"
    }
   ],
   "source": [
    "x_train=x_train.reshape(x_train.shape[0],x_train.shape[1],1)\n",
    "x_test=x_test.reshape(x_test.shape[0],x_test.shape[1],1)\n",
    "x_test.shape"
   ]
  },
  {
   "cell_type": "markdown",
   "metadata": {},
   "source": [
    "**Model Engineering**"
   ]
  },
  {
   "cell_type": "code",
   "execution_count": 20,
   "metadata": {
    "colab": {
     "base_uri": "https://localhost:8080/"
    },
    "id": "F-Yo1Nw70B7P",
    "outputId": "0f3d1896-23fd-4d26-e491-ff23d1e00e9f"
   },
   "outputs": [
    {
     "name": "stdout",
     "output_type": "stream",
     "text": [
      "Model: \"sequential\"\n",
      "_________________________________________________________________\n",
      " Layer (type)                Output Shape              Param #   \n",
      "=================================================================\n",
      " lstm (LSTM)                 (None, 365, 50)           10400     \n",
      "                                                                 \n",
      " lstm_1 (LSTM)               (None, 365, 50)           20200     \n",
      "                                                                 \n",
      " lstm_2 (LSTM)               (None, 50)                20200     \n",
      "                                                                 \n",
      " dense (Dense)               (None, 1)                 51        \n",
      "                                                                 \n",
      "=================================================================\n",
      "Total params: 50851 (198.64 KB)\n",
      "Trainable params: 50851 (198.64 KB)\n",
      "Non-trainable params: 0 (0.00 Byte)\n",
      "_________________________________________________________________\n"
     ]
    }
   ],
   "source": [
    "model=Sequential()\n",
    "model.add(LSTM(50,return_sequences=True,input_shape=(365,1)))\n",
    "model.add(LSTM(50,return_sequences=True))\n",
    "model.add(LSTM(50))\n",
    "model.add(Dense(1))\n",
    "model.compile(loss='mean_squared_error',optimizer='adam', metrics=['accuracy'])\n",
    "model.summary()"
   ]
  },
  {
   "cell_type": "markdown",
   "metadata": {},
   "source": [
    "**Model Training**"
   ]
  },
  {
   "cell_type": "code",
   "execution_count": 21,
   "metadata": {},
   "outputs": [
    {
     "name": "stdout",
     "output_type": "stream",
     "text": [
      "Epoch 1/100\n",
      "9/9 [==============================] - 10s 687ms/step - loss: 0.0308 - accuracy: 0.0018 - val_loss: 0.0052 - val_accuracy: 0.0000e+00\n",
      "Epoch 2/100\n",
      "9/9 [==============================] - 4s 494ms/step - loss: 0.0120 - accuracy: 0.0018 - val_loss: 0.0039 - val_accuracy: 0.0000e+00\n",
      "Epoch 3/100\n",
      "9/9 [==============================] - 5s 552ms/step - loss: 0.0100 - accuracy: 0.0018 - val_loss: 0.0023 - val_accuracy: 0.0000e+00\n",
      "Epoch 4/100\n",
      "9/9 [==============================] - 5s 508ms/step - loss: 0.0090 - accuracy: 0.0018 - val_loss: 8.8479e-04 - val_accuracy: 0.0000e+00\n",
      "Epoch 5/100\n",
      "9/9 [==============================] - 4s 494ms/step - loss: 0.0085 - accuracy: 0.0018 - val_loss: 2.0425e-04 - val_accuracy: 0.0000e+00\n",
      "Epoch 6/100\n",
      "9/9 [==============================] - 4s 498ms/step - loss: 0.0080 - accuracy: 0.0018 - val_loss: 0.0012 - val_accuracy: 0.0000e+00\n",
      "Epoch 7/100\n",
      "9/9 [==============================] - 4s 497ms/step - loss: 0.0077 - accuracy: 0.0018 - val_loss: 3.7592e-04 - val_accuracy: 0.0000e+00\n",
      "Epoch 8/100\n",
      "9/9 [==============================] - 5s 509ms/step - loss: 0.0073 - accuracy: 0.0018 - val_loss: 6.5403e-04 - val_accuracy: 0.0000e+00\n",
      "Epoch 9/100\n",
      "9/9 [==============================] - 5s 528ms/step - loss: 0.0066 - accuracy: 0.0018 - val_loss: 3.7113e-04 - val_accuracy: 0.0000e+00\n",
      "Epoch 10/100\n",
      "9/9 [==============================] - 5s 537ms/step - loss: 0.0065 - accuracy: 0.0018 - val_loss: 8.4342e-05 - val_accuracy: 0.0000e+00\n",
      "Epoch 11/100\n",
      "9/9 [==============================] - 5s 504ms/step - loss: 0.0061 - accuracy: 0.0018 - val_loss: 8.6405e-05 - val_accuracy: 0.0000e+00\n",
      "Epoch 12/100\n",
      "9/9 [==============================] - 5s 515ms/step - loss: 0.0061 - accuracy: 0.0018 - val_loss: 4.3938e-04 - val_accuracy: 0.0000e+00\n",
      "Epoch 13/100\n",
      "9/9 [==============================] - 5s 527ms/step - loss: 0.0057 - accuracy: 0.0018 - val_loss: 1.0091e-04 - val_accuracy: 0.0000e+00\n",
      "Epoch 14/100\n",
      "9/9 [==============================] - 5s 539ms/step - loss: 0.0057 - accuracy: 0.0018 - val_loss: 0.0013 - val_accuracy: 0.0000e+00\n",
      "Epoch 15/100\n",
      "9/9 [==============================] - 5s 513ms/step - loss: 0.0064 - accuracy: 0.0018 - val_loss: 0.0024 - val_accuracy: 0.0000e+00\n",
      "Epoch 16/100\n",
      "9/9 [==============================] - 5s 521ms/step - loss: 0.0067 - accuracy: 0.0018 - val_loss: 2.3183e-04 - val_accuracy: 0.0000e+00\n",
      "Epoch 17/100\n",
      "9/9 [==============================] - 5s 533ms/step - loss: 0.0052 - accuracy: 0.0018 - val_loss: 1.6612e-04 - val_accuracy: 0.0000e+00\n",
      "Epoch 18/100\n",
      "9/9 [==============================] - 5s 527ms/step - loss: 0.0047 - accuracy: 0.0018 - val_loss: 7.8002e-05 - val_accuracy: 0.0000e+00\n",
      "Epoch 19/100\n",
      "9/9 [==============================] - 5s 520ms/step - loss: 0.0046 - accuracy: 0.0018 - val_loss: 2.1996e-04 - val_accuracy: 0.0000e+00\n",
      "Epoch 20/100\n",
      "9/9 [==============================] - 5s 513ms/step - loss: 0.0066 - accuracy: 0.0018 - val_loss: 8.7272e-04 - val_accuracy: 0.0000e+00\n",
      "Epoch 21/100\n",
      "9/9 [==============================] - 5s 538ms/step - loss: 0.0055 - accuracy: 0.0018 - val_loss: 7.1186e-04 - val_accuracy: 0.0000e+00\n",
      "Epoch 22/100\n",
      "9/9 [==============================] - 5s 537ms/step - loss: 0.0045 - accuracy: 0.0018 - val_loss: 1.1436e-04 - val_accuracy: 0.0000e+00\n",
      "Epoch 23/100\n",
      "9/9 [==============================] - 5s 510ms/step - loss: 0.0039 - accuracy: 0.0018 - val_loss: 7.2630e-05 - val_accuracy: 0.0000e+00\n",
      "Epoch 24/100\n",
      "9/9 [==============================] - 5s 562ms/step - loss: 0.0034 - accuracy: 0.0018 - val_loss: 2.5256e-04 - val_accuracy: 0.0000e+00\n",
      "Epoch 25/100\n",
      "9/9 [==============================] - 5s 547ms/step - loss: 0.0030 - accuracy: 0.0018 - val_loss: 4.5016e-04 - val_accuracy: 0.0000e+00\n",
      "Epoch 26/100\n",
      "9/9 [==============================] - 5s 535ms/step - loss: 0.0027 - accuracy: 0.0018 - val_loss: 3.3762e-04 - val_accuracy: 0.0000e+00\n",
      "Epoch 27/100\n",
      "9/9 [==============================] - 5s 548ms/step - loss: 0.0024 - accuracy: 0.0018 - val_loss: 2.8710e-04 - val_accuracy: 0.0000e+00\n",
      "Epoch 28/100\n",
      "9/9 [==============================] - 5s 545ms/step - loss: 0.0022 - accuracy: 0.0018 - val_loss: 2.2477e-04 - val_accuracy: 0.0000e+00\n",
      "Epoch 29/100\n",
      "9/9 [==============================] - 5s 545ms/step - loss: 0.0024 - accuracy: 0.0018 - val_loss: 2.0197e-04 - val_accuracy: 0.0000e+00\n",
      "Epoch 30/100\n",
      "9/9 [==============================] - 5s 538ms/step - loss: 0.0023 - accuracy: 0.0018 - val_loss: 1.2112e-04 - val_accuracy: 0.0000e+00\n",
      "Epoch 31/100\n",
      "9/9 [==============================] - 5s 551ms/step - loss: 0.0022 - accuracy: 0.0018 - val_loss: 7.4276e-05 - val_accuracy: 0.0000e+00\n",
      "Epoch 32/100\n",
      "9/9 [==============================] - 5s 535ms/step - loss: 0.0019 - accuracy: 0.0018 - val_loss: 4.6767e-05 - val_accuracy: 0.0000e+00\n",
      "Epoch 33/100\n",
      "9/9 [==============================] - 5s 546ms/step - loss: 0.0018 - accuracy: 0.0018 - val_loss: 4.3458e-05 - val_accuracy: 0.0000e+00\n",
      "Epoch 34/100\n",
      "9/9 [==============================] - 5s 555ms/step - loss: 0.0018 - accuracy: 0.0018 - val_loss: 4.2569e-05 - val_accuracy: 0.0000e+00\n",
      "Epoch 35/100\n",
      "9/9 [==============================] - 5s 544ms/step - loss: 0.0019 - accuracy: 0.0018 - val_loss: 4.0675e-05 - val_accuracy: 0.0000e+00\n",
      "Epoch 36/100\n",
      "9/9 [==============================] - 5s 566ms/step - loss: 0.0018 - accuracy: 0.0018 - val_loss: 5.6827e-05 - val_accuracy: 0.0000e+00\n",
      "Epoch 37/100\n",
      "9/9 [==============================] - 5s 557ms/step - loss: 0.0017 - accuracy: 0.0018 - val_loss: 5.0364e-05 - val_accuracy: 0.0000e+00\n",
      "Epoch 38/100\n",
      "9/9 [==============================] - 5s 548ms/step - loss: 0.0016 - accuracy: 0.0018 - val_loss: 4.1570e-05 - val_accuracy: 0.0000e+00\n",
      "Epoch 39/100\n",
      "9/9 [==============================] - 5s 595ms/step - loss: 0.0020 - accuracy: 0.0018 - val_loss: 1.8764e-04 - val_accuracy: 0.0000e+00\n",
      "Epoch 40/100\n",
      "9/9 [==============================] - 5s 598ms/step - loss: 0.0018 - accuracy: 0.0018 - val_loss: 9.3709e-05 - val_accuracy: 0.0000e+00\n",
      "Epoch 41/100\n",
      "9/9 [==============================] - 5s 553ms/step - loss: 0.0018 - accuracy: 0.0018 - val_loss: 6.0092e-05 - val_accuracy: 0.0000e+00\n",
      "Epoch 42/100\n",
      "9/9 [==============================] - 5s 549ms/step - loss: 0.0018 - accuracy: 0.0018 - val_loss: 9.7110e-05 - val_accuracy: 0.0000e+00\n",
      "Epoch 43/100\n",
      "9/9 [==============================] - 5s 559ms/step - loss: 0.0016 - accuracy: 0.0018 - val_loss: 6.9477e-05 - val_accuracy: 0.0000e+00\n",
      "Epoch 44/100\n",
      "9/9 [==============================] - 5s 552ms/step - loss: 0.0015 - accuracy: 0.0018 - val_loss: 6.6632e-05 - val_accuracy: 0.0000e+00\n",
      "Epoch 45/100\n",
      "9/9 [==============================] - 5s 561ms/step - loss: 0.0018 - accuracy: 0.0018 - val_loss: 1.0378e-04 - val_accuracy: 0.0000e+00\n",
      "Epoch 46/100\n",
      "9/9 [==============================] - 5s 589ms/step - loss: 0.0018 - accuracy: 0.0018 - val_loss: 4.9308e-05 - val_accuracy: 0.0000e+00\n",
      "Epoch 47/100\n",
      "9/9 [==============================] - 5s 561ms/step - loss: 0.0018 - accuracy: 0.0018 - val_loss: 4.4897e-05 - val_accuracy: 0.0000e+00\n",
      "Epoch 48/100\n",
      "9/9 [==============================] - 5s 577ms/step - loss: 0.0015 - accuracy: 0.0018 - val_loss: 1.1413e-04 - val_accuracy: 0.0000e+00\n",
      "Epoch 49/100\n",
      "9/9 [==============================] - 5s 553ms/step - loss: 0.0018 - accuracy: 0.0018 - val_loss: 4.1682e-05 - val_accuracy: 0.0000e+00\n",
      "Epoch 50/100\n",
      "9/9 [==============================] - 5s 556ms/step - loss: 0.0022 - accuracy: 0.0018 - val_loss: 1.8281e-04 - val_accuracy: 0.0000e+00\n",
      "Epoch 51/100\n",
      "9/9 [==============================] - 5s 553ms/step - loss: 0.0020 - accuracy: 0.0018 - val_loss: 4.3349e-04 - val_accuracy: 0.0000e+00\n",
      "Epoch 52/100\n",
      "9/9 [==============================] - 5s 557ms/step - loss: 0.0017 - accuracy: 0.0018 - val_loss: 6.5281e-05 - val_accuracy: 0.0000e+00\n",
      "Epoch 53/100\n",
      "9/9 [==============================] - 5s 551ms/step - loss: 0.0017 - accuracy: 0.0018 - val_loss: 4.3758e-05 - val_accuracy: 0.0000e+00\n",
      "Epoch 54/100\n",
      "9/9 [==============================] - 5s 547ms/step - loss: 0.0017 - accuracy: 0.0018 - val_loss: 3.8199e-05 - val_accuracy: 0.0000e+00\n",
      "Epoch 55/100\n",
      "9/9 [==============================] - 6s 639ms/step - loss: 0.0018 - accuracy: 0.0018 - val_loss: 9.6107e-05 - val_accuracy: 0.0000e+00\n",
      "Epoch 56/100\n",
      "9/9 [==============================] - 5s 565ms/step - loss: 0.0016 - accuracy: 0.0018 - val_loss: 1.3216e-04 - val_accuracy: 0.0000e+00\n",
      "Epoch 57/100\n",
      "9/9 [==============================] - 5s 598ms/step - loss: 0.0016 - accuracy: 0.0018 - val_loss: 3.8404e-05 - val_accuracy: 0.0000e+00\n",
      "Epoch 58/100\n",
      "9/9 [==============================] - 5s 563ms/step - loss: 0.0016 - accuracy: 0.0018 - val_loss: 5.8618e-05 - val_accuracy: 0.0000e+00\n",
      "Epoch 59/100\n",
      "9/9 [==============================] - 5s 582ms/step - loss: 0.0017 - accuracy: 0.0018 - val_loss: 8.5744e-05 - val_accuracy: 0.0000e+00\n",
      "Epoch 60/100\n",
      "9/9 [==============================] - 5s 572ms/step - loss: 0.0017 - accuracy: 0.0018 - val_loss: 1.6860e-04 - val_accuracy: 0.0000e+00\n",
      "Epoch 61/100\n",
      "9/9 [==============================] - 5s 585ms/step - loss: 0.0016 - accuracy: 0.0018 - val_loss: 3.8994e-05 - val_accuracy: 0.0000e+00\n",
      "Epoch 62/100\n",
      "9/9 [==============================] - 5s 605ms/step - loss: 0.0015 - accuracy: 0.0018 - val_loss: 5.8083e-05 - val_accuracy: 0.0000e+00\n",
      "Epoch 63/100\n",
      "9/9 [==============================] - 5s 588ms/step - loss: 0.0015 - accuracy: 0.0018 - val_loss: 1.8080e-04 - val_accuracy: 0.0000e+00\n",
      "Epoch 64/100\n",
      "9/9 [==============================] - 5s 568ms/step - loss: 0.0017 - accuracy: 0.0018 - val_loss: 3.6744e-05 - val_accuracy: 0.0000e+00\n",
      "Epoch 65/100\n",
      "9/9 [==============================] - 5s 566ms/step - loss: 0.0014 - accuracy: 0.0018 - val_loss: 7.9797e-05 - val_accuracy: 0.0000e+00\n",
      "Epoch 66/100\n",
      "9/9 [==============================] - 5s 562ms/step - loss: 0.0016 - accuracy: 0.0018 - val_loss: 6.6707e-05 - val_accuracy: 0.0000e+00\n",
      "Epoch 67/100\n",
      "9/9 [==============================] - 5s 553ms/step - loss: 0.0015 - accuracy: 0.0018 - val_loss: 5.8158e-05 - val_accuracy: 0.0000e+00\n",
      "Epoch 68/100\n",
      "9/9 [==============================] - 5s 558ms/step - loss: 0.0015 - accuracy: 0.0018 - val_loss: 1.3342e-04 - val_accuracy: 0.0000e+00\n",
      "Epoch 69/100\n",
      "9/9 [==============================] - 5s 554ms/step - loss: 0.0013 - accuracy: 0.0018 - val_loss: 1.0816e-04 - val_accuracy: 0.0000e+00\n",
      "Epoch 70/100\n",
      "9/9 [==============================] - 5s 557ms/step - loss: 0.0014 - accuracy: 0.0018 - val_loss: 6.0542e-05 - val_accuracy: 0.0000e+00\n",
      "Epoch 71/100\n",
      "9/9 [==============================] - 5s 547ms/step - loss: 0.0017 - accuracy: 0.0018 - val_loss: 6.7453e-05 - val_accuracy: 0.0000e+00\n",
      "Epoch 72/100\n",
      "9/9 [==============================] - 5s 548ms/step - loss: 0.0015 - accuracy: 0.0018 - val_loss: 1.4004e-04 - val_accuracy: 0.0000e+00\n",
      "Epoch 73/100\n",
      "9/9 [==============================] - 5s 548ms/step - loss: 0.0013 - accuracy: 0.0018 - val_loss: 7.2415e-05 - val_accuracy: 0.0000e+00\n",
      "Epoch 74/100\n",
      "9/9 [==============================] - 5s 563ms/step - loss: 0.0017 - accuracy: 0.0018 - val_loss: 4.9377e-05 - val_accuracy: 0.0000e+00\n",
      "Epoch 75/100\n",
      "9/9 [==============================] - 5s 582ms/step - loss: 0.0022 - accuracy: 0.0000e+00 - val_loss: 1.4792e-04 - val_accuracy: 0.0000e+00\n",
      "Epoch 76/100\n",
      "9/9 [==============================] - 5s 602ms/step - loss: 0.0016 - accuracy: 0.0018 - val_loss: 1.8696e-04 - val_accuracy: 0.0000e+00\n",
      "Epoch 77/100\n",
      "9/9 [==============================] - 5s 560ms/step - loss: 0.0018 - accuracy: 0.0018 - val_loss: 4.6089e-05 - val_accuracy: 0.0000e+00\n",
      "Epoch 78/100\n",
      "9/9 [==============================] - 5s 552ms/step - loss: 0.0019 - accuracy: 0.0018 - val_loss: 1.4955e-04 - val_accuracy: 0.0000e+00\n",
      "Epoch 79/100\n",
      "9/9 [==============================] - 5s 552ms/step - loss: 0.0017 - accuracy: 0.0018 - val_loss: 6.8725e-05 - val_accuracy: 0.0000e+00\n",
      "Epoch 80/100\n",
      "9/9 [==============================] - 5s 564ms/step - loss: 0.0017 - accuracy: 0.0018 - val_loss: 6.1614e-05 - val_accuracy: 0.0000e+00\n",
      "Epoch 81/100\n",
      "9/9 [==============================] - 5s 550ms/step - loss: 0.0015 - accuracy: 0.0018 - val_loss: 1.1263e-04 - val_accuracy: 0.0000e+00\n",
      "Epoch 82/100\n",
      "9/9 [==============================] - 5s 546ms/step - loss: 0.0014 - accuracy: 0.0018 - val_loss: 2.1445e-04 - val_accuracy: 0.0000e+00\n",
      "Epoch 83/100\n",
      "9/9 [==============================] - 5s 549ms/step - loss: 0.0015 - accuracy: 0.0018 - val_loss: 3.6331e-05 - val_accuracy: 0.0000e+00\n",
      "Epoch 84/100\n",
      "9/9 [==============================] - 5s 550ms/step - loss: 0.0016 - accuracy: 0.0018 - val_loss: 9.4837e-05 - val_accuracy: 0.0000e+00\n",
      "Epoch 85/100\n",
      "9/9 [==============================] - 5s 564ms/step - loss: 0.0014 - accuracy: 0.0018 - val_loss: 1.4333e-04 - val_accuracy: 0.0000e+00\n",
      "Epoch 86/100\n",
      "9/9 [==============================] - 5s 552ms/step - loss: 0.0014 - accuracy: 0.0018 - val_loss: 7.1881e-05 - val_accuracy: 0.0000e+00\n",
      "Epoch 87/100\n",
      "9/9 [==============================] - 5s 553ms/step - loss: 0.0014 - accuracy: 0.0018 - val_loss: 1.0825e-04 - val_accuracy: 0.0000e+00\n",
      "Epoch 88/100\n",
      "9/9 [==============================] - 5s 543ms/step - loss: 0.0014 - accuracy: 0.0018 - val_loss: 6.3759e-05 - val_accuracy: 0.0000e+00\n",
      "Epoch 89/100\n",
      "9/9 [==============================] - 5s 551ms/step - loss: 0.0013 - accuracy: 0.0018 - val_loss: 6.7812e-05 - val_accuracy: 0.0000e+00\n",
      "Epoch 90/100\n",
      "9/9 [==============================] - 6s 637ms/step - loss: 0.0012 - accuracy: 0.0018 - val_loss: 3.1430e-04 - val_accuracy: 0.0000e+00\n",
      "Epoch 91/100\n",
      "9/9 [==============================] - 5s 570ms/step - loss: 0.0020 - accuracy: 0.0018 - val_loss: 1.5296e-04 - val_accuracy: 0.0000e+00\n",
      "Epoch 92/100\n",
      "9/9 [==============================] - 5s 585ms/step - loss: 0.0016 - accuracy: 0.0018 - val_loss: 1.0612e-04 - val_accuracy: 0.0000e+00\n",
      "Epoch 93/100\n",
      "9/9 [==============================] - 5s 574ms/step - loss: 0.0014 - accuracy: 0.0018 - val_loss: 3.6306e-05 - val_accuracy: 0.0000e+00\n",
      "Epoch 94/100\n",
      "9/9 [==============================] - 5s 560ms/step - loss: 0.0013 - accuracy: 0.0018 - val_loss: 3.9846e-05 - val_accuracy: 0.0000e+00\n",
      "Epoch 95/100\n",
      "9/9 [==============================] - 5s 565ms/step - loss: 0.0013 - accuracy: 0.0018 - val_loss: 2.2611e-04 - val_accuracy: 0.0000e+00\n",
      "Epoch 96/100\n",
      "9/9 [==============================] - 5s 562ms/step - loss: 0.0013 - accuracy: 0.0018 - val_loss: 1.3274e-04 - val_accuracy: 0.0000e+00\n",
      "Epoch 97/100\n",
      "9/9 [==============================] - 5s 551ms/step - loss: 0.0014 - accuracy: 0.0018 - val_loss: 5.0013e-05 - val_accuracy: 0.0000e+00\n",
      "Epoch 98/100\n",
      "9/9 [==============================] - 5s 578ms/step - loss: 0.0016 - accuracy: 0.0018 - val_loss: 3.4542e-04 - val_accuracy: 0.0000e+00\n",
      "Epoch 99/100\n",
      "9/9 [==============================] - 5s 570ms/step - loss: 0.0014 - accuracy: 0.0018 - val_loss: 9.7882e-05 - val_accuracy: 0.0000e+00\n",
      "Epoch 100/100\n",
      "9/9 [==============================] - 5s 561ms/step - loss: 0.0015 - accuracy: 0.0018 - val_loss: 4.6727e-05 - val_accuracy: 0.0000e+00\n"
     ]
    },
    {
     "data": {
      "text/plain": [
       "<keras.src.callbacks.History at 0x297cffd1b50>"
      ]
     },
     "execution_count": 21,
     "metadata": {},
     "output_type": "execute_result"
    }
   ],
   "source": [
    "model.fit(x_train,y_train,validation_data=(x_test,y_test),epochs=100,batch_size=64,verbose=1)"
   ]
  },
  {
   "cell_type": "markdown",
   "metadata": {},
   "source": [
    "**MODEL PREDICTION**"
   ]
  },
  {
   "cell_type": "code",
   "execution_count": 48,
   "metadata": {
    "colab": {
     "base_uri": "https://localhost:8080/"
    },
    "id": "MCUUGTnAJOjh",
    "outputId": "6cd92645-47cb-450d-cdbc-430dfe12cc59"
   },
   "outputs": [
    {
     "name": "stdout",
     "output_type": "stream",
     "text": [
      "18/18 [==============================] - 1s 75ms/step\n",
      "4/4 [==============================] - 0s 81ms/step\n"
     ]
    }
   ],
   "source": [
    "train_pred=model.predict(x_train)\n",
    "test_pred=model.predict(x_test)"
   ]
  },
  {
   "cell_type": "code",
   "execution_count": 49,
   "metadata": {
    "colab": {
     "base_uri": "https://localhost:8080/"
    },
    "id": "oip06KPALEhW",
    "outputId": "630a0d12-98c3-48c1-d361-55feaded6362"
   },
   "outputs": [
    {
     "data": {
      "text/plain": [
       "(548, 1)"
      ]
     },
     "execution_count": 49,
     "metadata": {},
     "output_type": "execute_result"
    }
   ],
   "source": [
    "train_pred.shape"
   ]
  },
  {
   "cell_type": "markdown",
   "metadata": {},
   "source": [
    "**Train Prediction**"
   ]
  },
  {
   "cell_type": "code",
   "execution_count": 50,
   "metadata": {},
   "outputs": [
    {
     "data": {
      "text/plain": [
       "[<matplotlib.lines.Line2D at 0x297e20c4550>]"
      ]
     },
     "execution_count": 50,
     "metadata": {},
     "output_type": "execute_result"
    },
    {
     "data": {
      "image/png": "[encoded data removed]",
      "text/plain": [
       "<Figure size 640x480 with 1 Axes>"
      ]
     },
     "metadata": {},
     "output_type": "display_data"
    }
   ],
   "source": [
    "plt.plot(y_train,label='Actual_train_target value')\n",
    "plt.plot(train_pred)"
   ]
  },
  {
   "cell_type": "code",
   "execution_count": 51,
   "metadata": {
    "colab": {
     "base_uri": "https://localhost:8080/"
    },
    "id": "utAqUi230koO",
    "outputId": "a1ea5a35-1209-4708-f041-c0f2aa226ec1"
   },
   "outputs": [
    {
     "data": {
      "text/plain": [
       "(548,)"
      ]
     },
     "execution_count": 51,
     "metadata": {},
     "output_type": "execute_result"
    }
   ],
   "source": [
    "y_train.shape"
   ]
  },
  {
   "cell_type": "code",
   "execution_count": 52,
   "metadata": {
    "colab": {
     "base_uri": "https://localhost:8080/"
    },
    "id": "Bjdtx1klLFLk",
    "outputId": "c789461e-5bec-4141-fb55-5aee48478d0d"
   },
   "outputs": [
    {
     "data": {
      "text/plain": [
       "(127, 1)"
      ]
     },
     "execution_count": 52,
     "metadata": {},
     "output_type": "execute_result"
    }
   ],
   "source": [
    "test_pred.shape"
   ]
  },
  {
   "cell_type": "markdown",
   "metadata": {},
   "source": [
    "**Test Prediction**"
   ]
  },
  {
   "cell_type": "code",
   "execution_count": 53,
   "metadata": {},
   "outputs": [
    {
     "data": {
      "text/plain": [
       "[<matplotlib.lines.Line2D at 0x297e20cc890>]"
      ]
     },
     "execution_count": 53,
     "metadata": {},
     "output_type": "execute_result"
    },
    {
     "data": {
      "image/png": "[encoded data removed]",
      "text/plain": [
       "<Figure size 640x480 with 1 Axes>"
      ]
     },
     "metadata": {},
     "output_type": "display_data"
    }
   ],
   "source": [
    "plt.plot(y_test,label='test actual data')\n",
    "plt.plot(test_pred,label='test predicted data')"
   ]
  },
  {
   "cell_type": "markdown",
   "metadata": {},
   "source": [
    "**Calculating RMSE**"
   ]
  },
  {
   "cell_type": "code",
   "execution_count": 54,
   "metadata": {
    "colab": {
     "base_uri": "https://localhost:8080/"
    },
    "id": "OeM1h2CEmNe7",
    "outputId": "f1ceff35-b0f4-4020-bdc9-92c6242700fa"
   },
   "outputs": [
    {
     "data": {
      "text/plain": [
       "0.034242861165792116"
      ]
     },
     "execution_count": 54,
     "metadata": {},
     "output_type": "execute_result"
    }
   ],
   "source": [
    "import math\n",
    "from sklearn.metrics import mean_squared_error\n",
    "math.sqrt(mean_squared_error(y_train,train_pred))"
   ]
  },
  {
   "cell_type": "code",
   "execution_count": 55,
   "metadata": {
    "colab": {
     "base_uri": "https://localhost:8080/"
    },
    "id": "-JgZkEx7mfA9",
    "outputId": "0627cbc0-5ade-40f2-97f9-4d9e8230b065"
   },
   "outputs": [
    {
     "data": {
      "text/plain": [
       "0.006835723288964497"
      ]
     },
     "execution_count": 55,
     "metadata": {},
     "output_type": "execute_result"
    }
   ],
   "source": [
    "math.sqrt(mean_squared_error(y_test,test_pred))"
   ]
  },
  {
   "cell_type": "markdown",
   "metadata": {},
   "source": [
    "**Predicting Future 90 days Stocks**"
   ]
  },
  {
   "cell_type": "code",
   "execution_count": 57,
   "metadata": {},
   "outputs": [],
   "source": [
    "n_days = 90\n",
    "x_input = test_data[-90:].reshape(1, -1)\n",
    "temp_input = list(x_input)\n",
    "temp_input = temp_input[0].tolist()\n",
    "lst_output = []\n",
    "n_steps = 365\n",
    "\n",
    "for i in range(n_days):\n",
    "    if len(temp_input) >= n_steps:\n",
    "        x_input = np.array(temp_input[-n_steps:])  # Use the last n_steps elements\n",
    "        x_input = x_input.reshape(1, n_steps, 1)\n",
    "        yhat = model.predict(x_input, verbose=0)\n",
    "        temp_input.extend(yhat[0].tolist())\n",
    "        lst_output.extend(yhat.tolist())\n",
    "    else:\n",
    "        x_input = np.array(temp_input)\n",
    "        x_input = x_input.reshape(1, len(temp_input), 1)  # Use all available data\n",
    "        yhat = model.predict(x_input, verbose=0)\n",
    "        temp_input.extend(yhat[0].tolist())\n",
    "        lst_output.extend(yhat.tolist())\n",
    "\n",
    "\n",
    "extended_predictions = scaler.inverse_transform(np.array(lst_output).reshape(-1, 1))\n",
    "\n",
    "day_new_extended = np.arange(len(df1), len(df1) + n_days)"
   ]
  },
  {
   "cell_type": "code",
   "execution_count": 58,
   "metadata": {},
   "outputs": [
    {
     "name": "stdout",
     "output_type": "stream",
     "text": [
      "[[0.07465127110481262], [0.07431130111217499], [0.07434290647506714], [0.0746387243270874], [0.07509076595306396], [0.0756215900182724], [0.07618576288223267], [0.07676146924495697], [0.07734069228172302], [0.07792215049266815], [0.07850685715675354], [0.0790960043668747], [0.07969008386135101], [0.0802888572216034], [0.08089141547679901], [0.081496462225914], [0.08210250735282898], [0.08270803093910217], [0.08331151306629181], [0.08391159772872925], [0.0845070332288742], [0.08509677648544312], [0.08567997813224792], [0.08625586330890656], [0.08682392537593842], [0.08738380670547485], [0.0879351943731308], [0.0884779542684555], [0.0890120267868042], [0.08953742682933807], [0.0900542289018631], [0.09056255221366882], [0.09106254577636719], [0.09155434370040894], [0.09203816950321198], [0.09251418709754944], [0.09298259019851685], [0.09344355762004852], [0.09389728307723999], [0.09434393048286438], [0.0947837382555008], [0.0952167958021164], [0.09564334154129028], [0.09606347978115082], [0.09647741913795471], [0.09688526391983032], [0.09728722274303436], [0.09768339991569519], [0.09807389974594116], [0.0984589159488678], [0.09883855283260345], [0.09921292960643768], [0.09958215057849884], [0.09994637966156006], [0.10030569136142731], [0.10066017508506775], [0.10100996494293213], [0.10135515034198761], [0.10169582068920135], [0.10203208029270172], [0.10236398875713348], [0.1026916354894638], [0.10301509499549866], [0.10333450138568878], [0.10364985466003418], [0.10396125912666321], [0.10426881909370422], [0.10457253456115723], [0.10487253963947296], [0.10516887903213501], [0.10546156764030457], [0.10575073957443237], [0.10603639483451843], [0.1063186377286911], [0.10659745335578918], [0.10687299072742462], [0.1071452647447586], [0.10741430521011353], [0.10768018662929535], [0.10794292390346527], [0.10820265114307404], [0.10845935344696045], [0.1087130606174469], [0.10896387696266174], [0.10921178758144379], [0.10945689678192139], [0.10969918966293335], [0.10993875563144684], [0.11017560958862305], [0.11040978133678436]]\n"
     ]
    }
   ],
   "source": [
    "print(lst_output)"
   ]
  },
  {
   "cell_type": "code",
   "execution_count": 59,
   "metadata": {},
   "outputs": [
    {
     "data": {
      "text/plain": [
       "[<matplotlib.lines.Line2D at 0x297e25bb9d0>]"
      ]
     },
     "execution_count": 59,
     "metadata": {},
     "output_type": "execute_result"
    },
    {
     "data": {
      "image/png": "[encoded data removed]",
      "text/plain": [
       "<Figure size 640x480 with 1 Axes>"
      ]
     },
     "metadata": {},
     "output_type": "display_data"
    }
   ],
   "source": [
    "plt.plot(extended_predictions)"
   ]
  },
  {
   "cell_type": "markdown",
   "metadata": {},
   "source": [
    "**Ploting future 90days data on original data**"
   ]
  },
  {
   "cell_type": "code",
   "execution_count": 60,
   "metadata": {},
   "outputs": [
    {
     "data": {
      "image/png": "[encoded data removed]",
      "text/plain": [
       "<Figure size 640x480 with 1 Axes>"
      ]
     },
     "metadata": {},
     "output_type": "display_data"
    }
   ],
   "source": [
    "plt.plot(df1['open'])\n",
    "plt.savefig('predicted_plot.jpg')\n",
    "plt.plot(day_new_extended,extended_predictions, label=\"Test Prediction\", color=\"green\")\n",
    "plt.savefig('plot.jpg')"
   ]
  },
  {
   "cell_type": "markdown",
   "metadata": {},
   "source": [
    "**Saving the model**"
   ]
  },
  {
   "cell_type": "code",
   "execution_count": 61,
   "metadata": {
    "id": "QPgy0Tyrsinx"
   },
   "outputs": [
    {
     "name": "stderr",
     "output_type": "stream",
     "text": [
      "C:\\Users\\abinj\\AppData\\Local\\Programs\\Python\\Python311\\Lib\\site-packages\\keras\\src\\engine\\training.py:3000: UserWarning: You are saving your model as an HDF5 file via `model.save()`. This file format is considered legacy. We recommend using instead the native Keras format, e.g. `model.save('my_model.keras')`.\n",
      "  saving_api.save_model(\n"
     ]
    }
   ],
   "source": [
    "model.save('Tesla_Lstm_stock_model.h5')"
   ]
  }
 ],
 "metadata": {
  "accelerator": "GPU",
  "colab": {
   "gpuType": "T4",
   "provenance": []
  },
  "kernelspec": {
   "display_name": "Python 3 (ipykernel)",
   "language": "python",
   "name": "python3"
  },
  "language_info": {
   "codemirror_mode": {
    "name": "ipython",
    "version": 3
   },
   "file_extension": ".py",
   "mimetype": "text/x-python",
   "name": "python",
   "nbconvert_exporter": "python",
   "pygments_lexer": "ipython3",
   "version": "3.11.4"
  }
 },
 "nbformat": 4,
 "nbformat_minor": 4
}
